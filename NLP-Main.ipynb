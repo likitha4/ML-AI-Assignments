{
 "cells": [
  {
   "cell_type": "code",
   "execution_count": 1,
   "metadata": {},
   "outputs": [],
   "source": [
    "import numpy as np\n",
    "import matplotlib.pyplot as plt\n",
    "import pandas as pd"
   ]
  },
  {
   "cell_type": "code",
   "execution_count": 2,
   "metadata": {},
   "outputs": [],
   "source": [
    "dataset = pd.read_csv('Restaurant_Reviews.tsv', delimiter = '\\t', quoting = 3)"
   ]
  },
  {
   "cell_type": "code",
   "execution_count": 3,
   "metadata": {},
   "outputs": [
    {
     "name": "stderr",
     "output_type": "stream",
     "text": [
      "[nltk_data] Downloading package stopwords to\n",
      "[nltk_data]     C:\\Users\\HOME\\AppData\\Roaming\\nltk_data...\n",
      "[nltk_data]   Package stopwords is already up-to-date!\n"
     ]
    },
    {
     "data": {
      "text/plain": [
       "True"
      ]
     },
     "execution_count": 3,
     "metadata": {},
     "output_type": "execute_result"
    }
   ],
   "source": [
    "import re\n",
    "import nltk\n",
    "nltk.download('stopwords')"
   ]
  },
  {
   "cell_type": "code",
   "execution_count": 4,
   "metadata": {},
   "outputs": [],
   "source": [
    "from nltk.corpus import stopwords"
   ]
  },
  {
   "cell_type": "code",
   "execution_count": 5,
   "metadata": {},
   "outputs": [],
   "source": [
    "from nltk.stem.porter import PorterStemmer\n",
    "ps = PorterStemmer()"
   ]
  },
  {
   "cell_type": "code",
   "execution_count": 6,
   "metadata": {},
   "outputs": [],
   "source": [
    "data=[]\n",
    "for i in range(0,1000):\n",
    "        review=dataset[\"Review\"][i]\n",
    "        review = re.sub('[^a-zA-Z]', ' ', review)\n",
    "        review = review.lower()\n",
    "        review = review.split()\n",
    "        review = [ps.stem(word) for word in review if not word in set(stopwords.words('english'))]\n",
    "        review = ' '.join(review)\n",
    "        data.append(review)"
   ]
  },
  {
   "cell_type": "code",
   "execution_count": 7,
   "metadata": {},
   "outputs": [],
   "source": [
    "from sklearn.feature_extraction.text import CountVectorizer\n",
    "cv = CountVectorizer(max_features=1500)\n",
    "X = cv.fit_transform(data).toarray()\n",
    "y=dataset.iloc[:,1].values"
   ]
  },
  {
   "cell_type": "code",
   "execution_count": 8,
   "metadata": {},
   "outputs": [],
   "source": [
    "from sklearn.model_selection import train_test_split\n",
    "X_train, X_test, y_train, y_test = train_test_split(X, y, test_size = 0.20, random_state = 0)"
   ]
  },
  {
   "cell_type": "code",
   "execution_count": 9,
   "metadata": {},
   "outputs": [
    {
     "name": "stderr",
     "output_type": "stream",
     "text": [
      "Using TensorFlow backend.\n",
      "C:\\Users\\HOME\\anaconda3\\lib\\site-packages\\tensorflow\\python\\framework\\dtypes.py:516: FutureWarning: Passing (type, 1) or '1type' as a synonym of type is deprecated; in a future version of numpy, it will be understood as (type, (1,)) / '(1,)type'.\n",
      "  _np_qint8 = np.dtype([(\"qint8\", np.int8, 1)])\n",
      "C:\\Users\\HOME\\anaconda3\\lib\\site-packages\\tensorflow\\python\\framework\\dtypes.py:517: FutureWarning: Passing (type, 1) or '1type' as a synonym of type is deprecated; in a future version of numpy, it will be understood as (type, (1,)) / '(1,)type'.\n",
      "  _np_quint8 = np.dtype([(\"quint8\", np.uint8, 1)])\n",
      "C:\\Users\\HOME\\anaconda3\\lib\\site-packages\\tensorflow\\python\\framework\\dtypes.py:518: FutureWarning: Passing (type, 1) or '1type' as a synonym of type is deprecated; in a future version of numpy, it will be understood as (type, (1,)) / '(1,)type'.\n",
      "  _np_qint16 = np.dtype([(\"qint16\", np.int16, 1)])\n",
      "C:\\Users\\HOME\\anaconda3\\lib\\site-packages\\tensorflow\\python\\framework\\dtypes.py:519: FutureWarning: Passing (type, 1) or '1type' as a synonym of type is deprecated; in a future version of numpy, it will be understood as (type, (1,)) / '(1,)type'.\n",
      "  _np_quint16 = np.dtype([(\"quint16\", np.uint16, 1)])\n",
      "C:\\Users\\HOME\\anaconda3\\lib\\site-packages\\tensorflow\\python\\framework\\dtypes.py:520: FutureWarning: Passing (type, 1) or '1type' as a synonym of type is deprecated; in a future version of numpy, it will be understood as (type, (1,)) / '(1,)type'.\n",
      "  _np_qint32 = np.dtype([(\"qint32\", np.int32, 1)])\n",
      "C:\\Users\\HOME\\anaconda3\\lib\\site-packages\\tensorflow\\python\\framework\\dtypes.py:525: FutureWarning: Passing (type, 1) or '1type' as a synonym of type is deprecated; in a future version of numpy, it will be understood as (type, (1,)) / '(1,)type'.\n",
      "  np_resource = np.dtype([(\"resource\", np.ubyte, 1)])\n",
      "C:\\Users\\HOME\\anaconda3\\lib\\site-packages\\tensorboard\\compat\\tensorflow_stub\\dtypes.py:541: FutureWarning: Passing (type, 1) or '1type' as a synonym of type is deprecated; in a future version of numpy, it will be understood as (type, (1,)) / '(1,)type'.\n",
      "  _np_qint8 = np.dtype([(\"qint8\", np.int8, 1)])\n",
      "C:\\Users\\HOME\\anaconda3\\lib\\site-packages\\tensorboard\\compat\\tensorflow_stub\\dtypes.py:542: FutureWarning: Passing (type, 1) or '1type' as a synonym of type is deprecated; in a future version of numpy, it will be understood as (type, (1,)) / '(1,)type'.\n",
      "  _np_quint8 = np.dtype([(\"quint8\", np.uint8, 1)])\n",
      "C:\\Users\\HOME\\anaconda3\\lib\\site-packages\\tensorboard\\compat\\tensorflow_stub\\dtypes.py:543: FutureWarning: Passing (type, 1) or '1type' as a synonym of type is deprecated; in a future version of numpy, it will be understood as (type, (1,)) / '(1,)type'.\n",
      "  _np_qint16 = np.dtype([(\"qint16\", np.int16, 1)])\n",
      "C:\\Users\\HOME\\anaconda3\\lib\\site-packages\\tensorboard\\compat\\tensorflow_stub\\dtypes.py:544: FutureWarning: Passing (type, 1) or '1type' as a synonym of type is deprecated; in a future version of numpy, it will be understood as (type, (1,)) / '(1,)type'.\n",
      "  _np_quint16 = np.dtype([(\"quint16\", np.uint16, 1)])\n",
      "C:\\Users\\HOME\\anaconda3\\lib\\site-packages\\tensorboard\\compat\\tensorflow_stub\\dtypes.py:545: FutureWarning: Passing (type, 1) or '1type' as a synonym of type is deprecated; in a future version of numpy, it will be understood as (type, (1,)) / '(1,)type'.\n",
      "  _np_qint32 = np.dtype([(\"qint32\", np.int32, 1)])\n",
      "C:\\Users\\HOME\\anaconda3\\lib\\site-packages\\tensorboard\\compat\\tensorflow_stub\\dtypes.py:550: FutureWarning: Passing (type, 1) or '1type' as a synonym of type is deprecated; in a future version of numpy, it will be understood as (type, (1,)) / '(1,)type'.\n",
      "  np_resource = np.dtype([(\"resource\", np.ubyte, 1)])\n"
     ]
    }
   ],
   "source": [
    "from keras.models import Sequential\n",
    "from keras.layers import Dense\n",
    "model = Sequential()"
   ]
  },
  {
   "cell_type": "code",
   "execution_count": 10,
   "metadata": {},
   "outputs": [
    {
     "name": "stderr",
     "output_type": "stream",
     "text": [
      "C:\\Users\\HOME\\anaconda3\\lib\\site-packages\\ipykernel_launcher.py:1: UserWarning: Update your `Dense` call to the Keras 2 API: `Dense(activation=\"sigmoid\", input_dim=1500, units=1000, kernel_initializer=\"uniform\")`\n",
      "  \"\"\"Entry point for launching an IPython kernel.\n"
     ]
    }
   ],
   "source": [
    "model.add(Dense(output_dim = 1000, init = 'uniform', activation = 'sigmoid', input_dim = 1500))"
   ]
  },
  {
   "cell_type": "code",
   "execution_count": 11,
   "metadata": {},
   "outputs": [
    {
     "name": "stderr",
     "output_type": "stream",
     "text": [
      "C:\\Users\\HOME\\anaconda3\\lib\\site-packages\\ipykernel_launcher.py:1: UserWarning: Update your `Dense` call to the Keras 2 API: `Dense(activation=\"sigmoid\", units=100, kernel_initializer=\"uniform\")`\n",
      "  \"\"\"Entry point for launching an IPython kernel.\n"
     ]
    }
   ],
   "source": [
    "model.add(Dense(output_dim = 100, init = 'uniform', activation = 'sigmoid'))"
   ]
  },
  {
   "cell_type": "code",
   "execution_count": 12,
   "metadata": {},
   "outputs": [
    {
     "name": "stderr",
     "output_type": "stream",
     "text": [
      "C:\\Users\\HOME\\anaconda3\\lib\\site-packages\\ipykernel_launcher.py:1: UserWarning: Update your `Dense` call to the Keras 2 API: `Dense(activation=\"sigmoid\", units=1, kernel_initializer=\"uniform\")`\n",
      "  \"\"\"Entry point for launching an IPython kernel.\n"
     ]
    }
   ],
   "source": [
    "model.add(Dense(output_dim = 1, init = 'uniform', activation = 'sigmoid'))"
   ]
  },
  {
   "cell_type": "code",
   "execution_count": 13,
   "metadata": {},
   "outputs": [
    {
     "name": "stdout",
     "output_type": "stream",
     "text": [
      "WARNING:tensorflow:From C:\\Users\\HOME\\anaconda3\\lib\\site-packages\\tensorflow\\python\\ops\\nn_impl.py:180: add_dispatch_support.<locals>.wrapper (from tensorflow.python.ops.array_ops) is deprecated and will be removed in a future version.\n",
      "Instructions for updating:\n",
      "Use tf.where in 2.0, which has the same broadcast rule as np.where\n"
     ]
    }
   ],
   "source": [
    "model.compile(optimizer = 'adam', loss = 'binary_crossentropy', metrics = ['accuracy'])"
   ]
  },
  {
   "cell_type": "code",
   "execution_count": 14,
   "metadata": {},
   "outputs": [
    {
     "name": "stdout",
     "output_type": "stream",
     "text": [
      "WARNING:tensorflow:From C:\\Users\\HOME\\anaconda3\\lib\\site-packages\\keras\\backend\\tensorflow_backend.py:422: The name tf.global_variables is deprecated. Please use tf.compat.v1.global_variables instead.\n",
      "\n",
      "Epoch 1/45\n",
      "800/800 [==============================] - 2s 2ms/step - loss: 0.7007 - accuracy: 0.5063\n",
      "Epoch 2/45\n",
      "800/800 [==============================] - 1s 1ms/step - loss: 0.6994 - accuracy: 0.5213\n",
      "Epoch 3/45\n",
      "800/800 [==============================] - 1s 1ms/step - loss: 0.6957 - accuracy: 0.5238\n",
      "Epoch 4/45\n",
      "800/800 [==============================] - 1s 1ms/step - loss: 0.6819 - accuracy: 0.6225\n",
      "Epoch 5/45\n",
      "800/800 [==============================] - 1s 1ms/step - loss: 0.6625 - accuracy: 0.6413\n",
      "Epoch 6/45\n",
      "800/800 [==============================] - 1s 1ms/step - loss: 0.6107 - accuracy: 0.7038\n",
      "Epoch 7/45\n",
      "800/800 [==============================] - 1s 1ms/step - loss: 0.4752 - accuracy: 0.8825\n",
      "Epoch 8/45\n",
      "800/800 [==============================] - 1s 1ms/step - loss: 0.3233 - accuracy: 0.9175\n",
      "Epoch 9/45\n",
      "800/800 [==============================] - 1s 1ms/step - loss: 0.2292 - accuracy: 0.9275\n",
      "Epoch 10/45\n",
      "800/800 [==============================] - 1s 1ms/step - loss: 0.1750 - accuracy: 0.9463\n",
      "Epoch 11/45\n",
      "800/800 [==============================] - 1s 1ms/step - loss: 0.1306 - accuracy: 0.9600\n",
      "Epoch 12/45\n",
      "800/800 [==============================] - 1s 1ms/step - loss: 0.1146 - accuracy: 0.9675\n",
      "Epoch 13/45\n",
      "800/800 [==============================] - 1s 1ms/step - loss: 0.0837 - accuracy: 0.9837\n",
      "Epoch 14/45\n",
      "800/800 [==============================] - 1s 1ms/step - loss: 0.0753 - accuracy: 0.9812\n",
      "Epoch 15/45\n",
      "800/800 [==============================] - 1s 1ms/step - loss: 0.0697 - accuracy: 0.9800\n",
      "Epoch 16/45\n",
      "800/800 [==============================] - 1s 1ms/step - loss: 0.0595 - accuracy: 0.9875\n",
      "Epoch 17/45\n",
      "800/800 [==============================] - 1s 1ms/step - loss: 0.0576 - accuracy: 0.9787\n",
      "Epoch 18/45\n",
      "800/800 [==============================] - 1s 1ms/step - loss: 0.0493 - accuracy: 0.9850\n",
      "Epoch 19/45\n",
      "800/800 [==============================] - 1s 1ms/step - loss: 0.0494 - accuracy: 0.9837\n",
      "Epoch 20/45\n",
      "800/800 [==============================] - 1s 1ms/step - loss: 0.0440 - accuracy: 0.9850\n",
      "Epoch 21/45\n",
      "800/800 [==============================] - 1s 1ms/step - loss: 0.0404 - accuracy: 0.9887\n",
      "Epoch 22/45\n",
      "800/800 [==============================] - 1s 1ms/step - loss: 0.0448 - accuracy: 0.9875\n",
      "Epoch 23/45\n",
      "800/800 [==============================] - 1s 1ms/step - loss: 0.0365 - accuracy: 0.9875\n",
      "Epoch 24/45\n",
      "800/800 [==============================] - 1s 1ms/step - loss: 0.0318 - accuracy: 0.9900\n",
      "Epoch 25/45\n",
      "800/800 [==============================] - 1s 1ms/step - loss: 0.0379 - accuracy: 0.9862\n",
      "Epoch 26/45\n",
      "800/800 [==============================] - 1s 1ms/step - loss: 0.0341 - accuracy: 0.9900\n",
      "Epoch 27/45\n",
      "800/800 [==============================] - 1s 1ms/step - loss: 0.0333 - accuracy: 0.9887\n",
      "Epoch 28/45\n",
      "800/800 [==============================] - 1s 1ms/step - loss: 0.0301 - accuracy: 0.9887\n",
      "Epoch 29/45\n",
      "800/800 [==============================] - 1s 1ms/step - loss: 0.0318 - accuracy: 0.9875\n",
      "Epoch 30/45\n",
      "800/800 [==============================] - 1s 1ms/step - loss: 0.0321 - accuracy: 0.9875\n",
      "Epoch 31/45\n",
      "800/800 [==============================] - 1s 1ms/step - loss: 0.0289 - accuracy: 0.9912\n",
      "Epoch 32/45\n",
      "800/800 [==============================] - 1s 1ms/step - loss: 0.0279 - accuracy: 0.9900\n",
      "Epoch 33/45\n",
      "800/800 [==============================] - 1s 1ms/step - loss: 0.0296 - accuracy: 0.9900\n",
      "Epoch 34/45\n",
      "800/800 [==============================] - 1s 1ms/step - loss: 0.0271 - accuracy: 0.9912\n",
      "Epoch 35/45\n",
      "800/800 [==============================] - 1s 1ms/step - loss: 0.0349 - accuracy: 0.9837\n",
      "Epoch 36/45\n",
      "800/800 [==============================] - 1s 1ms/step - loss: 0.0461 - accuracy: 0.9825\n",
      "Epoch 37/45\n",
      "800/800 [==============================] - 1s 1ms/step - loss: 0.0247 - accuracy: 0.9925\n",
      "Epoch 38/45\n",
      "800/800 [==============================] - 1s 1ms/step - loss: 0.0254 - accuracy: 0.9900\n",
      "Epoch 39/45\n",
      "800/800 [==============================] - 1s 1ms/step - loss: 0.0242 - accuracy: 0.9937\n",
      "Epoch 40/45\n",
      "800/800 [==============================] - 1s 1ms/step - loss: 0.0301 - accuracy: 0.9887\n",
      "Epoch 41/45\n",
      "800/800 [==============================] - 1s 1ms/step - loss: 0.0238 - accuracy: 0.9900\n",
      "Epoch 42/45\n",
      "800/800 [==============================] - 1s 1ms/step - loss: 0.0221 - accuracy: 0.9900\n",
      "Epoch 43/45\n",
      "800/800 [==============================] - 1s 1ms/step - loss: 0.0251 - accuracy: 0.9925\n",
      "Epoch 44/45\n",
      "800/800 [==============================] - 1s 1ms/step - loss: 0.0263 - accuracy: 0.9912\n",
      "Epoch 45/45\n",
      "800/800 [==============================] - 1s 1ms/step - loss: 0.0293 - accuracy: 0.9912\n"
     ]
    },
    {
     "data": {
      "text/plain": [
       "<keras.callbacks.callbacks.History at 0x1fb9b40aa08>"
      ]
     },
     "execution_count": 14,
     "metadata": {},
     "output_type": "execute_result"
    }
   ],
   "source": [
    "model.fit(X_train,y_train,batch_size=32,epochs=45)"
   ]
  },
  {
   "cell_type": "code",
   "execution_count": 16,
   "metadata": {},
   "outputs": [],
   "source": [
    "y=model.predict(X_test)\n",
    "y=y>0.5"
   ]
  },
  {
   "cell_type": "code",
   "execution_count": 24,
   "metadata": {},
   "outputs": [],
   "source": [
    "text=\"it was amazing.....\"\n",
    "review1=text\n",
    "review1=re.sub('[^a-zA-Z]',' ',review1)\n",
    "review1=review1.lower()\n",
    "review1=review1.split()\n",
    "review1=[ps.stem(word) for word in review1 if not word in set(stopwords.words('english')) ]\n",
    "review1=' '.join(review1)\n",
    "\n",
    "r1=model.predict(cv.transform([review1]))\n"
   ]
  },
  {
   "cell_type": "code",
   "execution_count": 25,
   "metadata": {},
   "outputs": [
    {
     "data": {
      "text/plain": [
       "array([[0.99520504]], dtype=float32)"
      ]
     },
     "execution_count": 25,
     "metadata": {},
     "output_type": "execute_result"
    }
   ],
   "source": [
    "r1"
   ]
  },
  {
   "cell_type": "code",
   "execution_count": 26,
   "metadata": {},
   "outputs": [
    {
     "name": "stdout",
     "output_type": "stream",
     "text": [
      "positive\n"
     ]
    }
   ],
   "source": [
    "if r1>0.5:\n",
    "    print (\"positive\")\n",
    "else:\n",
    "    print (\"negative\")\n"
   ]
  },
  {
   "cell_type": "code",
   "execution_count": 27,
   "metadata": {},
   "outputs": [],
   "source": [
    "t1=model.predict(cv.transform([\"very bad\"]))"
   ]
  },
  {
   "cell_type": "code",
   "execution_count": 29,
   "metadata": {},
   "outputs": [
    {
     "name": "stdout",
     "output_type": "stream",
     "text": [
      "negative\n"
     ]
    }
   ],
   "source": [
    "if t1>0.5:\n",
    "    print (\"positive\")\n",
    "else:\n",
    "    print (\"negative\")\n"
   ]
  },
  {
   "cell_type": "code",
   "execution_count": 34,
   "metadata": {},
   "outputs": [],
   "source": [
    "from sklearn.metrics import confusion_matrix\n",
    "cm=confusion_matrix(y_test,y)\n",
    "\n"
   ]
  },
  {
   "cell_type": "code",
   "execution_count": 36,
   "metadata": {},
   "outputs": [
    {
     "data": {
      "text/plain": [
       "array([[80, 17],\n",
       "       [35, 68]], dtype=int64)"
      ]
     },
     "execution_count": 36,
     "metadata": {},
     "output_type": "execute_result"
    }
   ],
   "source": [
    "cm"
   ]
  },
  {
   "cell_type": "code",
   "execution_count": 35,
   "metadata": {},
   "outputs": [
    {
     "data": {
      "text/plain": [
       "0.74"
      ]
     },
     "execution_count": 35,
     "metadata": {},
     "output_type": "execute_result"
    }
   ],
   "source": [
    "from sklearn.metrics import accuracy_score\n",
    "accuracy_score(y_test,y)\n"
   ]
  },
  {
   "cell_type": "code",
   "execution_count": null,
   "metadata": {},
   "outputs": [],
   "source": []
  }
 ],
 "metadata": {
  "kernelspec": {
   "display_name": "Python 3",
   "language": "python",
   "name": "python3"
  },
  "language_info": {
   "codemirror_mode": {
    "name": "ipython",
    "version": 3
   },
   "file_extension": ".py",
   "mimetype": "text/x-python",
   "name": "python",
   "nbconvert_exporter": "python",
   "pygments_lexer": "ipython3",
   "version": "3.7.6"
  }
 },
 "nbformat": 4,
 "nbformat_minor": 2
}
