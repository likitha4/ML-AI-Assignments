{
 "cells": [
  {
   "cell_type": "code",
   "execution_count": 1,
   "metadata": {},
   "outputs": [],
   "source": [
    "\n",
    "import pandas as pd\n",
    "import numpy as np"
   ]
  },
  {
   "cell_type": "code",
   "execution_count": 2,
   "metadata": {},
   "outputs": [],
   "source": [
    "data=pd.read_csv(\"E:/pythonbasics/50_Startups.csv\")"
   ]
  },
  {
   "cell_type": "code",
   "execution_count": 3,
   "metadata": {},
   "outputs": [
    {
     "data": {
      "text/html": [
       "<div>\n",
       "<style scoped>\n",
       "    .dataframe tbody tr th:only-of-type {\n",
       "        vertical-align: middle;\n",
       "    }\n",
       "\n",
       "    .dataframe tbody tr th {\n",
       "        vertical-align: top;\n",
       "    }\n",
       "\n",
       "    .dataframe thead th {\n",
       "        text-align: right;\n",
       "    }\n",
       "</style>\n",
       "<table border=\"1\" class=\"dataframe\">\n",
       "  <thead>\n",
       "    <tr style=\"text-align: right;\">\n",
       "      <th></th>\n",
       "      <th>R&amp;D Spend</th>\n",
       "      <th>Administration</th>\n",
       "      <th>Marketing Spend</th>\n",
       "      <th>State</th>\n",
       "      <th>Profit</th>\n",
       "    </tr>\n",
       "  </thead>\n",
       "  <tbody>\n",
       "    <tr>\n",
       "      <th>0</th>\n",
       "      <td>165349.20</td>\n",
       "      <td>136897.80</td>\n",
       "      <td>471784.10</td>\n",
       "      <td>New York</td>\n",
       "      <td>192261.83</td>\n",
       "    </tr>\n",
       "    <tr>\n",
       "      <th>1</th>\n",
       "      <td>162597.70</td>\n",
       "      <td>151377.59</td>\n",
       "      <td>443898.53</td>\n",
       "      <td>California</td>\n",
       "      <td>191792.06</td>\n",
       "    </tr>\n",
       "    <tr>\n",
       "      <th>2</th>\n",
       "      <td>153441.51</td>\n",
       "      <td>101145.55</td>\n",
       "      <td>407934.54</td>\n",
       "      <td>Florida</td>\n",
       "      <td>191050.39</td>\n",
       "    </tr>\n",
       "    <tr>\n",
       "      <th>3</th>\n",
       "      <td>144372.41</td>\n",
       "      <td>118671.85</td>\n",
       "      <td>383199.62</td>\n",
       "      <td>New York</td>\n",
       "      <td>182901.99</td>\n",
       "    </tr>\n",
       "    <tr>\n",
       "      <th>4</th>\n",
       "      <td>142107.34</td>\n",
       "      <td>91391.77</td>\n",
       "      <td>366168.42</td>\n",
       "      <td>Florida</td>\n",
       "      <td>166187.94</td>\n",
       "    </tr>\n",
       "  </tbody>\n",
       "</table>\n",
       "</div>"
      ],
      "text/plain": [
       "   R&D Spend  Administration  Marketing Spend       State     Profit\n",
       "0  165349.20       136897.80        471784.10    New York  192261.83\n",
       "1  162597.70       151377.59        443898.53  California  191792.06\n",
       "2  153441.51       101145.55        407934.54     Florida  191050.39\n",
       "3  144372.41       118671.85        383199.62    New York  182901.99\n",
       "4  142107.34        91391.77        366168.42     Florida  166187.94"
      ]
     },
     "execution_count": 3,
     "metadata": {},
     "output_type": "execute_result"
    }
   ],
   "source": [
    "data.head(5)"
   ]
  },
  {
   "cell_type": "code",
   "execution_count": 4,
   "metadata": {},
   "outputs": [
    {
     "data": {
      "text/plain": [
       "R&D Spend          False\n",
       "Administration     False\n",
       "Marketing Spend    False\n",
       "State              False\n",
       "Profit             False\n",
       "dtype: bool"
      ]
     },
     "execution_count": 4,
     "metadata": {},
     "output_type": "execute_result"
    }
   ],
   "source": [
    "data.isnull().any()"
   ]
  },
  {
   "cell_type": "code",
   "execution_count": 5,
   "metadata": {},
   "outputs": [],
   "source": [
    "from sklearn.preprocessing import LabelEncoder\n",
    "atm=LabelEncoder()\n",
    "data['State']=atm.fit_transform(data['State'])"
   ]
  },
  {
   "cell_type": "code",
   "execution_count": 6,
   "metadata": {},
   "outputs": [
    {
     "data": {
      "text/html": [
       "<div>\n",
       "<style scoped>\n",
       "    .dataframe tbody tr th:only-of-type {\n",
       "        vertical-align: middle;\n",
       "    }\n",
       "\n",
       "    .dataframe tbody tr th {\n",
       "        vertical-align: top;\n",
       "    }\n",
       "\n",
       "    .dataframe thead th {\n",
       "        text-align: right;\n",
       "    }\n",
       "</style>\n",
       "<table border=\"1\" class=\"dataframe\">\n",
       "  <thead>\n",
       "    <tr style=\"text-align: right;\">\n",
       "      <th></th>\n",
       "      <th>R&amp;D Spend</th>\n",
       "      <th>Administration</th>\n",
       "      <th>Marketing Spend</th>\n",
       "      <th>State</th>\n",
       "      <th>Profit</th>\n",
       "    </tr>\n",
       "  </thead>\n",
       "  <tbody>\n",
       "    <tr>\n",
       "      <th>0</th>\n",
       "      <td>165349.20</td>\n",
       "      <td>136897.80</td>\n",
       "      <td>471784.10</td>\n",
       "      <td>2</td>\n",
       "      <td>192261.83</td>\n",
       "    </tr>\n",
       "    <tr>\n",
       "      <th>1</th>\n",
       "      <td>162597.70</td>\n",
       "      <td>151377.59</td>\n",
       "      <td>443898.53</td>\n",
       "      <td>0</td>\n",
       "      <td>191792.06</td>\n",
       "    </tr>\n",
       "    <tr>\n",
       "      <th>2</th>\n",
       "      <td>153441.51</td>\n",
       "      <td>101145.55</td>\n",
       "      <td>407934.54</td>\n",
       "      <td>1</td>\n",
       "      <td>191050.39</td>\n",
       "    </tr>\n",
       "  </tbody>\n",
       "</table>\n",
       "</div>"
      ],
      "text/plain": [
       "   R&D Spend  Administration  Marketing Spend  State     Profit\n",
       "0  165349.20       136897.80        471784.10      2  192261.83\n",
       "1  162597.70       151377.59        443898.53      0  191792.06\n",
       "2  153441.51       101145.55        407934.54      1  191050.39"
      ]
     },
     "execution_count": 6,
     "metadata": {},
     "output_type": "execute_result"
    }
   ],
   "source": [
    "data[0:3]"
   ]
  },
  {
   "cell_type": "code",
   "execution_count": 7,
   "metadata": {},
   "outputs": [],
   "source": [
    "x=data.iloc[:,:4].values\n",
    "y=data.iloc[:,4:].values#toconvert to arrays"
   ]
  },
  {
   "cell_type": "code",
   "execution_count": 8,
   "metadata": {},
   "outputs": [
    {
     "data": {
      "text/plain": [
       "array([[1.6534920e+05, 1.3689780e+05, 4.7178410e+05, 2.0000000e+00],\n",
       "       [1.6259770e+05, 1.5137759e+05, 4.4389853e+05, 0.0000000e+00],\n",
       "       [1.5344151e+05, 1.0114555e+05, 4.0793454e+05, 1.0000000e+00]])"
      ]
     },
     "execution_count": 8,
     "metadata": {},
     "output_type": "execute_result"
    }
   ],
   "source": [
    "x[0:3,0:]"
   ]
  },
  {
   "cell_type": "code",
   "execution_count": 9,
   "metadata": {},
   "outputs": [],
   "source": [
    "from sklearn.preprocessing import OneHotEncoder\n",
    "one=OneHotEncoder()\n",
    "z=one.fit_transform(x[:,3:4]).toarray()\n",
    "x=np.delete(x,3,axis=1)\n",
    "x=np.concatenate((z,x),axis=1)"
   ]
  },
  {
   "cell_type": "code",
   "execution_count": 10,
   "metadata": {},
   "outputs": [
    {
     "data": {
      "text/plain": [
       "array([[0.0000000e+00, 0.0000000e+00, 1.0000000e+00, 1.6534920e+05,\n",
       "        1.3689780e+05, 4.7178410e+05],\n",
       "       [1.0000000e+00, 0.0000000e+00, 0.0000000e+00, 1.6259770e+05,\n",
       "        1.5137759e+05, 4.4389853e+05],\n",
       "       [0.0000000e+00, 1.0000000e+00, 0.0000000e+00, 1.5344151e+05,\n",
       "        1.0114555e+05, 4.0793454e+05],\n",
       "       [0.0000000e+00, 0.0000000e+00, 1.0000000e+00, 1.4437241e+05,\n",
       "        1.1867185e+05, 3.8319962e+05]])"
      ]
     },
     "execution_count": 10,
     "metadata": {},
     "output_type": "execute_result"
    }
   ],
   "source": [
    "x[0:4,0:]"
   ]
  },
  {
   "cell_type": "code",
   "execution_count": 11,
   "metadata": {},
   "outputs": [
    {
     "data": {
      "text/plain": [
       "array([[0.0000000e+00, 0.0000000e+00, 1.0000000e+00, 1.6534920e+05,\n",
       "        1.3689780e+05, 4.7178410e+05],\n",
       "       [1.0000000e+00, 0.0000000e+00, 0.0000000e+00, 1.6259770e+05,\n",
       "        1.5137759e+05, 4.4389853e+05]])"
      ]
     },
     "execution_count": 11,
     "metadata": {},
     "output_type": "execute_result"
    }
   ],
   "source": [
    "x[0:2,0:]"
   ]
  },
  {
   "cell_type": "code",
   "execution_count": 12,
   "metadata": {},
   "outputs": [
    {
     "data": {
      "text/plain": [
       "2"
      ]
     },
     "execution_count": 12,
     "metadata": {},
     "output_type": "execute_result"
    }
   ],
   "source": [
    "x.ndim"
   ]
  },
  {
   "cell_type": "code",
   "execution_count": 13,
   "metadata": {},
   "outputs": [],
   "source": [
    "from sklearn.model_selection import train_test_split\n",
    "x_train,x_test,y_train,y_test=train_test_split(x,y,test_size=0.2,random_state=0)\n"
   ]
  },
  {
   "cell_type": "code",
   "execution_count": 14,
   "metadata": {},
   "outputs": [
    {
     "data": {
      "text/plain": [
       "(40, 6)"
      ]
     },
     "execution_count": 14,
     "metadata": {},
     "output_type": "execute_result"
    }
   ],
   "source": [
    "x_train.shape"
   ]
  },
  {
   "cell_type": "code",
   "execution_count": 15,
   "metadata": {},
   "outputs": [
    {
     "data": {
      "text/plain": [
       "array([[0.0000000e+00, 1.0000000e+00, 0.0000000e+00, 5.5493950e+04,\n",
       "        1.0305749e+05, 2.1463481e+05],\n",
       "       [0.0000000e+00, 0.0000000e+00, 1.0000000e+00, 4.6014020e+04,\n",
       "        8.5047440e+04, 2.0551764e+05],\n",
       "       [0.0000000e+00, 1.0000000e+00, 0.0000000e+00, 7.5328870e+04,\n",
       "        1.4413598e+05, 1.3405007e+05]])"
      ]
     },
     "execution_count": 15,
     "metadata": {},
     "output_type": "execute_result"
    }
   ],
   "source": [
    "x_train[0:3,0:]"
   ]
  },
  {
   "cell_type": "code",
   "execution_count": 16,
   "metadata": {},
   "outputs": [
    {
     "data": {
      "text/plain": [
       "(10, 6)"
      ]
     },
     "execution_count": 16,
     "metadata": {},
     "output_type": "execute_result"
    }
   ],
   "source": [
    "x_test.shape"
   ]
  },
  {
   "cell_type": "code",
   "execution_count": 17,
   "metadata": {},
   "outputs": [
    {
     "data": {
      "text/plain": [
       "(40, 1)"
      ]
     },
     "execution_count": 17,
     "metadata": {},
     "output_type": "execute_result"
    }
   ],
   "source": [
    "y_train.shape"
   ]
  },
  {
   "cell_type": "code",
   "execution_count": 18,
   "metadata": {},
   "outputs": [
    {
     "data": {
      "text/plain": [
       "(10, 1)"
      ]
     },
     "execution_count": 18,
     "metadata": {},
     "output_type": "execute_result"
    }
   ],
   "source": [
    "y_test.shape"
   ]
  },
  {
   "cell_type": "code",
   "execution_count": 19,
   "metadata": {},
   "outputs": [],
   "source": [
    "from sklearn.preprocessing import StandardScaler #donot use  standard scaling when there is no variation among the variables\n",
    "sc = StandardScaler()\n",
    "x_train=sc.fit_transform(x_train)\n",
    "x_test=sc.transform(x_test)"
   ]
  },
  {
   "cell_type": "code",
   "execution_count": 20,
   "metadata": {},
   "outputs": [
    {
     "data": {
      "text/plain": [
       "array([[-0.81649658,  1.73205081, -0.73379939, -0.35006454, -0.78547109,\n",
       "         0.1011968 ],\n",
       "       [-0.81649658, -0.57735027,  1.36277029, -0.55530319, -1.48117426,\n",
       "         0.02734979]])"
      ]
     },
     "execution_count": 20,
     "metadata": {},
     "output_type": "execute_result"
    }
   ],
   "source": [
    "x_train[0:2,0:]"
   ]
  },
  {
   "cell_type": "code",
   "execution_count": 21,
   "metadata": {},
   "outputs": [
    {
     "data": {
      "text/plain": [
       "array([[-0.81649658,  1.73205081, -0.73379939, -0.1214952 ,  2.2889053 ,\n",
       "        -0.68032287],\n",
       "       [ 1.22474487, -0.57735027, -0.73379939,  0.6280306 , -1.22069499,\n",
       "         0.38557774]])"
      ]
     },
     "execution_count": 21,
     "metadata": {},
     "output_type": "execute_result"
    }
   ],
   "source": [
    "x_test[0:2,0:]"
   ]
  },
  {
   "cell_type": "code",
   "execution_count": 22,
   "metadata": {},
   "outputs": [
    {
     "name": "stderr",
     "output_type": "stream",
     "text": [
      "Using TensorFlow backend.\n",
      "C:\\Users\\HOME\\anaconda3\\lib\\site-packages\\tensorflow\\python\\framework\\dtypes.py:516: FutureWarning: Passing (type, 1) or '1type' as a synonym of type is deprecated; in a future version of numpy, it will be understood as (type, (1,)) / '(1,)type'.\n",
      "  _np_qint8 = np.dtype([(\"qint8\", np.int8, 1)])\n",
      "C:\\Users\\HOME\\anaconda3\\lib\\site-packages\\tensorflow\\python\\framework\\dtypes.py:517: FutureWarning: Passing (type, 1) or '1type' as a synonym of type is deprecated; in a future version of numpy, it will be understood as (type, (1,)) / '(1,)type'.\n",
      "  _np_quint8 = np.dtype([(\"quint8\", np.uint8, 1)])\n",
      "C:\\Users\\HOME\\anaconda3\\lib\\site-packages\\tensorflow\\python\\framework\\dtypes.py:518: FutureWarning: Passing (type, 1) or '1type' as a synonym of type is deprecated; in a future version of numpy, it will be understood as (type, (1,)) / '(1,)type'.\n",
      "  _np_qint16 = np.dtype([(\"qint16\", np.int16, 1)])\n",
      "C:\\Users\\HOME\\anaconda3\\lib\\site-packages\\tensorflow\\python\\framework\\dtypes.py:519: FutureWarning: Passing (type, 1) or '1type' as a synonym of type is deprecated; in a future version of numpy, it will be understood as (type, (1,)) / '(1,)type'.\n",
      "  _np_quint16 = np.dtype([(\"quint16\", np.uint16, 1)])\n",
      "C:\\Users\\HOME\\anaconda3\\lib\\site-packages\\tensorflow\\python\\framework\\dtypes.py:520: FutureWarning: Passing (type, 1) or '1type' as a synonym of type is deprecated; in a future version of numpy, it will be understood as (type, (1,)) / '(1,)type'.\n",
      "  _np_qint32 = np.dtype([(\"qint32\", np.int32, 1)])\n",
      "C:\\Users\\HOME\\anaconda3\\lib\\site-packages\\tensorflow\\python\\framework\\dtypes.py:525: FutureWarning: Passing (type, 1) or '1type' as a synonym of type is deprecated; in a future version of numpy, it will be understood as (type, (1,)) / '(1,)type'.\n",
      "  np_resource = np.dtype([(\"resource\", np.ubyte, 1)])\n",
      "C:\\Users\\HOME\\anaconda3\\lib\\site-packages\\tensorboard\\compat\\tensorflow_stub\\dtypes.py:541: FutureWarning: Passing (type, 1) or '1type' as a synonym of type is deprecated; in a future version of numpy, it will be understood as (type, (1,)) / '(1,)type'.\n",
      "  _np_qint8 = np.dtype([(\"qint8\", np.int8, 1)])\n",
      "C:\\Users\\HOME\\anaconda3\\lib\\site-packages\\tensorboard\\compat\\tensorflow_stub\\dtypes.py:542: FutureWarning: Passing (type, 1) or '1type' as a synonym of type is deprecated; in a future version of numpy, it will be understood as (type, (1,)) / '(1,)type'.\n",
      "  _np_quint8 = np.dtype([(\"quint8\", np.uint8, 1)])\n",
      "C:\\Users\\HOME\\anaconda3\\lib\\site-packages\\tensorboard\\compat\\tensorflow_stub\\dtypes.py:543: FutureWarning: Passing (type, 1) or '1type' as a synonym of type is deprecated; in a future version of numpy, it will be understood as (type, (1,)) / '(1,)type'.\n",
      "  _np_qint16 = np.dtype([(\"qint16\", np.int16, 1)])\n",
      "C:\\Users\\HOME\\anaconda3\\lib\\site-packages\\tensorboard\\compat\\tensorflow_stub\\dtypes.py:544: FutureWarning: Passing (type, 1) or '1type' as a synonym of type is deprecated; in a future version of numpy, it will be understood as (type, (1,)) / '(1,)type'.\n",
      "  _np_quint16 = np.dtype([(\"quint16\", np.uint16, 1)])\n",
      "C:\\Users\\HOME\\anaconda3\\lib\\site-packages\\tensorboard\\compat\\tensorflow_stub\\dtypes.py:545: FutureWarning: Passing (type, 1) or '1type' as a synonym of type is deprecated; in a future version of numpy, it will be understood as (type, (1,)) / '(1,)type'.\n",
      "  _np_qint32 = np.dtype([(\"qint32\", np.int32, 1)])\n",
      "C:\\Users\\HOME\\anaconda3\\lib\\site-packages\\tensorboard\\compat\\tensorflow_stub\\dtypes.py:550: FutureWarning: Passing (type, 1) or '1type' as a synonym of type is deprecated; in a future version of numpy, it will be understood as (type, (1,)) / '(1,)type'.\n",
      "  np_resource = np.dtype([(\"resource\", np.ubyte, 1)])\n"
     ]
    }
   ],
   "source": [
    "import keras\n",
    "from keras.models import Sequential\n",
    "from keras.layers import Dense"
   ]
  },
  {
   "cell_type": "code",
   "execution_count": 23,
   "metadata": {},
   "outputs": [
    {
     "name": "stdout",
     "output_type": "stream",
     "text": [
      "WARNING:tensorflow:From C:\\Users\\HOME\\anaconda3\\lib\\site-packages\\keras\\backend\\tensorflow_backend.py:74: The name tf.get_default_graph is deprecated. Please use tf.compat.v1.get_default_graph instead.\n",
      "\n"
     ]
    }
   ],
   "source": [
    "regressor=Sequential()"
   ]
  },
  {
   "cell_type": "code",
   "execution_count": 24,
   "metadata": {},
   "outputs": [
    {
     "data": {
      "text/plain": [
       "(40, 6)"
      ]
     },
     "execution_count": 24,
     "metadata": {},
     "output_type": "execute_result"
    }
   ],
   "source": [
    "x_train.shape"
   ]
  },
  {
   "cell_type": "code",
   "execution_count": 52,
   "metadata": {},
   "outputs": [
    {
     "name": "stderr",
     "output_type": "stream",
     "text": [
      "C:\\Users\\HOME\\anaconda3\\lib\\site-packages\\ipykernel_launcher.py:1: UserWarning: Update your `Dense` call to the Keras 2 API: `Dense(units=6, activation=\"relu\", kernel_initializer=\"random_uniform\")`\n",
      "  \"\"\"Entry point for launching an IPython kernel.\n"
     ]
    }
   ],
   "source": [
    "regressor.add(Dense(units=6,init='random_uniform',activation='relu'))"
   ]
  },
  {
   "cell_type": "code",
   "execution_count": 53,
   "metadata": {},
   "outputs": [
    {
     "name": "stderr",
     "output_type": "stream",
     "text": [
      "C:\\Users\\HOME\\anaconda3\\lib\\site-packages\\ipykernel_launcher.py:1: UserWarning: Update your `Dense` call to the Keras 2 API: `Dense(activation=\"relu\", units=3, kernel_initializer=\"random_uniform\")`\n",
      "  \"\"\"Entry point for launching an IPython kernel.\n"
     ]
    }
   ],
   "source": [
    "regressor.add(Dense(output_dim=3,init='random_uniform',activation='relu'))"
   ]
  },
  {
   "cell_type": "code",
   "execution_count": 55,
   "metadata": {},
   "outputs": [
    {
     "name": "stderr",
     "output_type": "stream",
     "text": [
      "C:\\Users\\HOME\\anaconda3\\lib\\site-packages\\ipykernel_launcher.py:1: UserWarning: Update your `Dense` call to the Keras 2 API: `Dense(activation=\"relu\", units=1, kernel_initializer=\"random_uniform\")`\n",
      "  \"\"\"Entry point for launching an IPython kernel.\n"
     ]
    }
   ],
   "source": [
    "regressor.add(Dense(output_dim=1,init='random_uniform',activation='relu')) #noneed to add activation for regression"
   ]
  },
  {
   "cell_type": "code",
   "execution_count": 56,
   "metadata": {},
   "outputs": [],
   "source": [
    "regressor.compile(optimizer = 'adam', loss = 'mse', metrics = ['mse'])"
   ]
  },
  {
   "cell_type": "code",
   "execution_count": 57,
   "metadata": {},
   "outputs": [
    {
     "name": "stdout",
     "output_type": "stream",
     "text": [
      "Epoch 1/100\n",
      "40/40 [==============================] - 0s 7ms/step - loss: 13615996108.8000 - mean_squared_error: 13615996108.8000\n",
      "Epoch 2/100\n",
      "40/40 [==============================] - 0s 100us/step - loss: 13615996108.8000 - mean_squared_error: 13615996108.8000\n",
      "Epoch 3/100\n",
      "40/40 [==============================] - 0s 99us/step - loss: 13615994470.4000 - mean_squared_error: 13615994470.4000\n",
      "Epoch 4/100\n",
      "40/40 [==============================] - 0s 100us/step - loss: 13615994265.6000 - mean_squared_error: 13615994265.6000\n",
      "Epoch 5/100\n",
      "40/40 [==============================] - 0s 100us/step - loss: 13615992832.0000 - mean_squared_error: 13615992832.0000\n",
      "Epoch 6/100\n",
      "40/40 [==============================] - 0s 99us/step - loss: 13615993446.4000 - mean_squared_error: 13615993446.4000\n",
      "Epoch 7/100\n",
      "40/40 [==============================] - 0s 100us/step - loss: 13615992422.4000 - mean_squared_error: 13615992422.4000\n",
      "Epoch 8/100\n",
      "40/40 [==============================] - 0s 100us/step - loss: 13615992422.4000 - mean_squared_error: 13615992422.4000\n",
      "Epoch 9/100\n",
      "40/40 [==============================] - 0s 100us/step - loss: 13615992012.8000 - mean_squared_error: 13615992012.8000\n",
      "Epoch 10/100\n",
      "40/40 [==============================] - 0s 175us/step - loss: 13615992422.4000 - mean_squared_error: 13615992422.4000\n",
      "Epoch 11/100\n",
      "40/40 [==============================] - 0s 199us/step - loss: 13615991193.6000 - mean_squared_error: 13615991193.6000\n",
      "Epoch 12/100\n",
      "40/40 [==============================] - 0s 50us/step - loss: 13615989964.8000 - mean_squared_error: 13615989964.8000\n",
      "Epoch 13/100\n",
      "40/40 [==============================] - 0s 75us/step - loss: 13615990374.4000 - mean_squared_error: 13615990374.4000\n",
      "Epoch 14/100\n",
      "40/40 [==============================] - 0s 74us/step - loss: 13615987916.8000 - mean_squared_error: 13615987916.8000\n",
      "Epoch 15/100\n",
      "40/40 [==============================] - 0s 75us/step - loss: 13615988326.4000 - mean_squared_error: 13615988326.4000\n",
      "Epoch 16/100\n",
      "40/40 [==============================] - 0s 125us/step - loss: 13615988121.6000 - mean_squared_error: 13615988121.6000\n",
      "Epoch 17/100\n",
      "40/40 [==============================] - 0s 200us/step - loss: 13615987916.8000 - mean_squared_error: 13615987916.8000\n",
      "Epoch 18/100\n",
      "40/40 [==============================] - 0s 75us/step - loss: 13615987916.8000 - mean_squared_error: 13615987916.8000\n",
      "Epoch 19/100\n",
      "40/40 [==============================] - 0s 99us/step - loss: 13615986688.0000 - mean_squared_error: 13615986688.0000\n",
      "Epoch 20/100\n",
      "40/40 [==============================] - 0s 75us/step - loss: 13615985459.2000 - mean_squared_error: 13615985459.2000\n",
      "Epoch 21/100\n",
      "40/40 [==============================] - 0s 125us/step - loss: 13615985664.0000 - mean_squared_error: 13615985664.0000\n",
      "Epoch 22/100\n",
      "40/40 [==============================] - 0s 75us/step - loss: 13615985459.2000 - mean_squared_error: 13615985459.2000\n",
      "Epoch 23/100\n",
      "40/40 [==============================] - 0s 150us/step - loss: 13615985049.6000 - mean_squared_error: 13615985049.6000\n",
      "Epoch 24/100\n",
      "40/40 [==============================] - 0s 200us/step - loss: 13615985049.6000 - mean_squared_error: 13615985049.6000\n",
      "Epoch 25/100\n",
      "40/40 [==============================] - 0s 100us/step - loss: 13615984230.4000 - mean_squared_error: 13615984230.4000\n",
      "Epoch 26/100\n",
      "40/40 [==============================] - 0s 125us/step - loss: 13615982182.4000 - mean_squared_error: 13615982182.4000\n",
      "Epoch 27/100\n",
      "40/40 [==============================] - 0s 75us/step - loss: 13615981772.8000 - mean_squared_error: 13615981772.8000\n",
      "Epoch 28/100\n",
      "40/40 [==============================] - 0s 75us/step - loss: 13615981772.8000 - mean_squared_error: 13615981772.8000\n",
      "Epoch 29/100\n",
      "40/40 [==============================] - 0s 75us/step - loss: 13615982592.0000 - mean_squared_error: 13615982592.0000\n",
      "Epoch 30/100\n",
      "40/40 [==============================] - 0s 150us/step - loss: 13615980953.6000 - mean_squared_error: 13615980953.6000\n",
      "Epoch 31/100\n",
      "40/40 [==============================] - 0s 274us/step - loss: 13615981363.2000 - mean_squared_error: 13615981363.2000\n",
      "Epoch 32/100\n",
      "40/40 [==============================] - 0s 125us/step - loss: 13615979724.8000 - mean_squared_error: 13615979724.8000\n",
      "Epoch 33/100\n",
      "40/40 [==============================] - 0s 100us/step - loss: 13615978086.4000 - mean_squared_error: 13615978086.4000\n",
      "Epoch 34/100\n",
      "40/40 [==============================] - 0s 75us/step - loss: 13615978905.6000 - mean_squared_error: 13615978905.6000\n",
      "Epoch 35/100\n",
      "40/40 [==============================] - 0s 75us/step - loss: 13615977881.6000 - mean_squared_error: 13615977881.6000\n",
      "Epoch 36/100\n",
      "40/40 [==============================] - 0s 75us/step - loss: 13615977676.8000 - mean_squared_error: 13615977676.8000\n",
      "Epoch 37/100\n",
      "40/40 [==============================] - 0s 125us/step - loss: 13615976652.8000 - mean_squared_error: 13615976652.8000\n",
      "Epoch 38/100\n",
      "40/40 [==============================] - 0s 150us/step - loss: 13615976038.4000 - mean_squared_error: 13615976038.4000\n",
      "Epoch 39/100\n",
      "40/40 [==============================] - 0s 174us/step - loss: 13615975628.8000 - mean_squared_error: 13615975628.8000\n",
      "Epoch 40/100\n",
      "40/40 [==============================] - 0s 100us/step - loss: 13615975424.0000 - mean_squared_error: 13615975424.0000\n",
      "Epoch 41/100\n",
      "40/40 [==============================] - 0s 100us/step - loss: 13615974400.0000 - mean_squared_error: 13615974400.0000\n",
      "Epoch 42/100\n",
      "40/40 [==============================] - 0s 100us/step - loss: 13615973580.8000 - mean_squared_error: 13615973580.8000\n",
      "Epoch 43/100\n",
      "40/40 [==============================] - 0s 75us/step - loss: 13615972761.6000 - mean_squared_error: 13615972761.6000\n",
      "Epoch 44/100\n",
      "40/40 [==============================] - 0s 100us/step - loss: 13615971532.8000 - mean_squared_error: 13615971532.8000\n",
      "Epoch 45/100\n",
      "40/40 [==============================] - 0s 125us/step - loss: 13615971737.6000 - mean_squared_error: 13615971737.6000\n",
      "Epoch 46/100\n",
      "40/40 [==============================] - 0s 200us/step - loss: 13615970918.4000 - mean_squared_error: 13615970918.4000\n",
      "Epoch 47/100\n",
      "40/40 [==============================] - ETA: 0s - loss: 13698103296.0000 - mean_squared_error: 13698103296.00 - 0s 75us/step - loss: 13615970713.6000 - mean_squared_error: 13615970713.6000\n",
      "Epoch 48/100\n",
      "40/40 [==============================] - 0s 75us/step - loss: 13615969894.4000 - mean_squared_error: 13615969894.4000\n",
      "Epoch 49/100\n",
      "40/40 [==============================] - 0s 125us/step - loss: 13615968665.6000 - mean_squared_error: 13615968665.6000\n",
      "Epoch 50/100\n",
      "40/40 [==============================] - 0s 75us/step - loss: 13615968665.6000 - mean_squared_error: 13615968665.6000\n",
      "Epoch 51/100\n",
      "40/40 [==============================] - 0s 75us/step - loss: 13615968256.0000 - mean_squared_error: 13615968256.0000\n",
      "Epoch 52/100\n",
      "40/40 [==============================] - 0s 75us/step - loss: 13615967232.0000 - mean_squared_error: 13615967232.0000\n",
      "Epoch 53/100\n",
      "40/40 [==============================] - 0s 100us/step - loss: 13615966412.8000 - mean_squared_error: 13615966412.8000\n",
      "Epoch 54/100\n",
      "40/40 [==============================] - 0s 125us/step - loss: 13615964569.6000 - mean_squared_error: 13615964569.6000\n",
      "Epoch 55/100\n",
      "40/40 [==============================] - 0s 100us/step - loss: 13615964160.0000 - mean_squared_error: 13615964160.0000\n",
      "Epoch 56/100\n",
      "40/40 [==============================] - 0s 75us/step - loss: 13615963545.6000 - mean_squared_error: 13615963545.6000\n",
      "Epoch 57/100\n",
      "40/40 [==============================] - 0s 100us/step - loss: 13615962112.0000 - mean_squared_error: 13615962112.0000\n",
      "Epoch 58/100\n",
      "40/40 [==============================] - 0s 100us/step - loss: 13615961292.8000 - mean_squared_error: 13615961292.8000\n",
      "Epoch 59/100\n",
      "40/40 [==============================] - 0s 100us/step - loss: 13615960883.2000 - mean_squared_error: 13615960883.2000\n",
      "Epoch 60/100\n",
      "40/40 [==============================] - 0s 100us/step - loss: 13615959244.8000 - mean_squared_error: 13615959244.8000\n",
      "Epoch 61/100\n",
      "40/40 [==============================] - 0s 75us/step - loss: 13615959244.8000 - mean_squared_error: 13615959244.8000\n",
      "Epoch 62/100\n",
      "40/40 [==============================] - 0s 125us/step - loss: 13615957606.4000 - mean_squared_error: 13615957606.4000\n",
      "Epoch 63/100\n",
      "40/40 [==============================] - 0s 150us/step - loss: 13615958425.6000 - mean_squared_error: 13615958425.6000\n",
      "Epoch 64/100\n",
      "40/40 [==============================] - 0s 100us/step - loss: 13615957196.8000 - mean_squared_error: 13615957196.8000\n",
      "Epoch 65/100\n",
      "40/40 [==============================] - 0s 100us/step - loss: 13615955763.2000 - mean_squared_error: 13615955763.2000\n",
      "Epoch 66/100\n",
      "40/40 [==============================] - 0s 75us/step - loss: 13615955251.2000 - mean_squared_error: 13615955251.2000\n",
      "Epoch 67/100\n",
      "40/40 [==============================] - 0s 75us/step - loss: 13615953510.4000 - mean_squared_error: 13615953510.4000\n",
      "Epoch 68/100\n",
      "40/40 [==============================] - 0s 99us/step - loss: 13615951667.2000 - mean_squared_error: 13615951667.2000\n",
      "Epoch 69/100\n",
      "40/40 [==============================] - 0s 75us/step - loss: 13615951257.6000 - mean_squared_error: 13615951257.6000\n",
      "Epoch 70/100\n",
      "40/40 [==============================] - 0s 100us/step - loss: 13615950643.2000 - mean_squared_error: 13615950643.2000\n",
      "Epoch 71/100\n",
      "40/40 [==============================] - 0s 150us/step - loss: 13615948800.0000 - mean_squared_error: 13615948800.0000\n",
      "Epoch 72/100\n",
      "40/40 [==============================] - 0s 100us/step - loss: 13615947161.6000 - mean_squared_error: 13615947161.6000\n",
      "Epoch 73/100\n",
      "40/40 [==============================] - 0s 100us/step - loss: 13615947366.4000 - mean_squared_error: 13615947366.4000\n",
      "Epoch 74/100\n",
      "40/40 [==============================] - 0s 125us/step - loss: 13615944499.2000 - mean_squared_error: 13615944499.2000\n",
      "Epoch 75/100\n",
      "40/40 [==============================] - 0s 75us/step - loss: 13615944089.6000 - mean_squared_error: 13615944089.6000\n",
      "Epoch 76/100\n",
      "40/40 [==============================] - 0s 75us/step - loss: 13615943680.0000 - mean_squared_error: 13615943680.0000\n",
      "Epoch 77/100\n",
      "40/40 [==============================] - 0s 100us/step - loss: 13615942041.6000 - mean_squared_error: 13615942041.6000\n",
      "Epoch 78/100\n",
      "40/40 [==============================] - 0s 75us/step - loss: 13615940812.8000 - mean_squared_error: 13615940812.8000\n",
      "Epoch 79/100\n",
      "40/40 [==============================] - 0s 75us/step - loss: 13615938355.2000 - mean_squared_error: 13615938355.2000\n",
      "Epoch 80/100\n",
      "40/40 [==============================] - 0s 175us/step - loss: 13615937945.6000 - mean_squared_error: 13615937945.6000\n",
      "Epoch 81/100\n",
      "40/40 [==============================] - 0s 150us/step - loss: 13615936716.8000 - mean_squared_error: 13615936716.8000\n",
      "Epoch 82/100\n",
      "40/40 [==============================] - 0s 174us/step - loss: 13615935078.4000 - mean_squared_error: 13615935078.4000\n",
      "Epoch 83/100\n",
      "40/40 [==============================] - 0s 100us/step - loss: 13615933440.0000 - mean_squared_error: 13615933440.0000\n",
      "Epoch 84/100\n",
      "40/40 [==============================] - 0s 125us/step - loss: 13615931801.6000 - mean_squared_error: 13615931801.6000\n",
      "Epoch 85/100\n",
      "40/40 [==============================] - 0s 100us/step - loss: 13615929753.6000 - mean_squared_error: 13615929753.6000\n",
      "Epoch 86/100\n",
      "40/40 [==============================] - 0s 100us/step - loss: 13615927910.4000 - mean_squared_error: 13615927910.4000\n",
      "Epoch 87/100\n",
      "40/40 [==============================] - 0s 100us/step - loss: 13615927091.2000 - mean_squared_error: 13615927091.2000\n",
      "Epoch 88/100\n",
      "40/40 [==============================] - 0s 175us/step - loss: 13615925862.4000 - mean_squared_error: 13615925862.4000\n",
      "Epoch 89/100\n",
      "40/40 [==============================] - 0s 224us/step - loss: 13615923200.0000 - mean_squared_error: 13615923200.0000\n",
      "Epoch 90/100\n",
      "40/40 [==============================] - 0s 150us/step - loss: 13615921152.0000 - mean_squared_error: 13615921152.0000\n",
      "Epoch 91/100\n",
      "40/40 [==============================] - 0s 150us/step - loss: 13615919104.0000 - mean_squared_error: 13615919104.0000\n",
      "Epoch 92/100\n",
      "40/40 [==============================] - 0s 75us/step - loss: 13615916851.2000 - mean_squared_error: 13615916851.2000\n",
      "Epoch 93/100\n",
      "40/40 [==============================] - 0s 125us/step - loss: 13615915827.2000 - mean_squared_error: 13615915827.2000\n",
      "Epoch 94/100\n",
      "40/40 [==============================] - 0s 199us/step - loss: 13615914188.8000 - mean_squared_error: 13615914188.8000\n",
      "Epoch 95/100\n",
      "40/40 [==============================] - 0s 100us/step - loss: 13615911321.6000 - mean_squared_error: 13615911321.6000\n",
      "Epoch 96/100\n",
      "40/40 [==============================] - 0s 125us/step - loss: 13615909478.4000 - mean_squared_error: 13615909478.4000\n",
      "Epoch 97/100\n",
      "40/40 [==============================] - 0s 124us/step - loss: 13615908044.8000 - mean_squared_error: 13615908044.8000\n",
      "Epoch 98/100\n",
      "40/40 [==============================] - 0s 100us/step - loss: 13615904972.8000 - mean_squared_error: 13615904972.8000\n",
      "Epoch 99/100\n",
      "40/40 [==============================] - 0s 175us/step - loss: 13615902515.2000 - mean_squared_error: 13615902515.2000\n",
      "Epoch 100/100\n",
      "40/40 [==============================] - 0s 100us/step - loss: 13615901081.6000 - mean_squared_error: 13615901081.6000\n"
     ]
    },
    {
     "data": {
      "text/plain": [
       "<keras.callbacks.History at 0x2503ad84b88>"
      ]
     },
     "execution_count": 57,
     "metadata": {},
     "output_type": "execute_result"
    }
   ],
   "source": [
    "regressor.fit(x_train,y_train,batch_size=32,epochs=100)"
   ]
  },
  {
   "cell_type": "code",
   "execution_count": 58,
   "metadata": {},
   "outputs": [],
   "source": [
    "ypred = regressor.predict(x_test)#prediction"
   ]
  },
  {
   "cell_type": "code",
   "execution_count": 30,
   "metadata": {},
   "outputs": [
    {
     "data": {
      "text/plain": [
       "array([[1.2285085e-05],\n",
       "       [0.0000000e+00],\n",
       "       [2.8829023e-05]], dtype=float32)"
      ]
     },
     "execution_count": 30,
     "metadata": {},
     "output_type": "execute_result"
    }
   ],
   "source": [
    "ypred[0:3]"
   ]
  },
  {
   "cell_type": "code",
   "execution_count": 31,
   "metadata": {},
   "outputs": [
    {
     "data": {
      "text/plain": [
       "array([[103282.38],\n",
       "       [144259.4 ],\n",
       "       [146121.95],\n",
       "       [ 77798.83],\n",
       "       [191050.39],\n",
       "       [105008.31],\n",
       "       [ 81229.06],\n",
       "       [ 97483.56],\n",
       "       [110352.25],\n",
       "       [166187.94]])"
      ]
     },
     "execution_count": 31,
     "metadata": {},
     "output_type": "execute_result"
    }
   ],
   "source": [
    " y_test #keypaper "
   ]
  },
  {
   "cell_type": "code",
   "execution_count": 32,
   "metadata": {},
   "outputs": [],
   "source": [
    "n   "
   ]
  },
  {
   "cell_type": "code",
   "execution_count": 33,
   "metadata": {},
   "outputs": [
    {
     "data": {
      "text/plain": [
       "-11.69118972850078"
      ]
     },
     "execution_count": 33,
     "metadata": {},
     "output_type": "execute_result"
    }
   ],
   "source": [
    "accuracy"
   ]
  },
  {
   "cell_type": "code",
   "execution_count": 34,
   "metadata": {},
   "outputs": [],
   "source": [
    "ypred= (ypred>0.5)"
   ]
  },
  {
   "cell_type": "code",
   "execution_count": 35,
   "metadata": {},
   "outputs": [
    {
     "data": {
      "text/plain": [
       "array([False])"
      ]
     },
     "execution_count": 35,
     "metadata": {},
     "output_type": "execute_result"
    }
   ],
   "source": [
    "ypred[5]"
   ]
  },
  {
   "cell_type": "code",
   "execution_count": 36,
   "metadata": {},
   "outputs": [
    {
     "data": {
      "text/plain": [
       "array([False])"
      ]
     },
     "execution_count": 36,
     "metadata": {},
     "output_type": "execute_result"
    }
   ],
   "source": [
    "ypred[2]"
   ]
  },
  {
   "cell_type": "code",
   "execution_count": 37,
   "metadata": {},
   "outputs": [
    {
     "data": {
      "text/plain": [
       "array([146121.95])"
      ]
     },
     "execution_count": 37,
     "metadata": {},
     "output_type": "execute_result"
    }
   ],
   "source": [
    "y_test[2]"
   ]
  },
  {
   "cell_type": "code",
   "execution_count": 38,
   "metadata": {},
   "outputs": [
    {
     "name": "stdout",
     "output_type": "stream",
     "text": [
      "[False]\n",
      "[97483.56]\n"
     ]
    }
   ],
   "source": [
    "print(ypred[7])\n",
    "print(y_test[7])"
   ]
  },
  {
   "cell_type": "code",
   "execution_count": 40,
   "metadata": {},
   "outputs": [],
   "source": [
    "yp=regressor.predict(sc.transform(np.array([[0,0,1,10000,1000,1000]]))) #5 columns"
   ]
  },
  {
   "cell_type": "code",
   "execution_count": 41,
   "metadata": {},
   "outputs": [
    {
     "data": {
      "text/plain": [
       "array([[-6.726932e-05]], dtype=float32)"
      ]
     },
     "execution_count": 41,
     "metadata": {},
     "output_type": "execute_result"
    }
   ],
   "source": [
    "yp"
   ]
  },
  {
   "cell_type": "code",
   "execution_count": 42,
   "metadata": {},
   "outputs": [],
   "source": [
    "yp=yp>0.5"
   ]
  },
  {
   "cell_type": "code",
   "execution_count": 43,
   "metadata": {},
   "outputs": [
    {
     "data": {
      "text/plain": [
       "array([[False]])"
      ]
     },
     "execution_count": 43,
     "metadata": {},
     "output_type": "execute_result"
    }
   ],
   "source": [
    "yp"
   ]
  },
  {
   "cell_type": "code",
   "execution_count": 46,
   "metadata": {},
   "outputs": [],
   "source": [
    "yp1 = regressor.predict(sc.transform(np.array([[0,1,0,987500,10700,15000]])))\n"
   ]
  },
  {
   "cell_type": "code",
   "execution_count": 47,
   "metadata": {},
   "outputs": [
    {
     "data": {
      "text/plain": [
       "array([[3.6045698e-05]], dtype=float32)"
      ]
     },
     "execution_count": 47,
     "metadata": {},
     "output_type": "execute_result"
    }
   ],
   "source": [
    "yp1"
   ]
  },
  {
   "cell_type": "code",
   "execution_count": 48,
   "metadata": {},
   "outputs": [],
   "source": [
    "yp2=yp1>0.5"
   ]
  },
  {
   "cell_type": "code",
   "execution_count": 49,
   "metadata": {},
   "outputs": [
    {
     "data": {
      "text/plain": [
       "array([[False]])"
      ]
     },
     "execution_count": 49,
     "metadata": {},
     "output_type": "execute_result"
    }
   ],
   "source": [
    "yp2"
   ]
  },
  {
   "cell_type": "code",
   "execution_count": 51,
   "metadata": {},
   "outputs": [],
   "source": [
    "regressor.save(\"ann-startups.h5\")"
   ]
  }
 ],
 "metadata": {
  "kernelspec": {
   "display_name": "Python 3",
   "language": "python",
   "name": "python3"
  },
  "language_info": {
   "codemirror_mode": {
    "name": "ipython",
    "version": 3
   },
   "file_extension": ".py",
   "mimetype": "text/x-python",
   "name": "python",
   "nbconvert_exporter": "python",
   "pygments_lexer": "ipython3",
   "version": "3.7.6"
  }
 },
 "nbformat": 4,
 "nbformat_minor": 4
}
