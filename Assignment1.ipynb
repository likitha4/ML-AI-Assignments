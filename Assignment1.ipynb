{
 "cells": [
  {
   "cell_type": "code",
   "execution_count": 1,
   "metadata": {},
   "outputs": [],
   "source": [
    "set1={\"1\",\"banana\",67,\"80.45\",3.14}"
   ]
  },
  {
   "cell_type": "code",
   "execution_count": 2,
   "metadata": {},
   "outputs": [
    {
     "name": "stdout",
     "output_type": "stream",
     "text": [
      "{3.14, 67, '1', '80.45', 'banana'}\n"
     ]
    }
   ],
   "source": [
    "print(set1)"
   ]
  },
  {
   "cell_type": "code",
   "execution_count": 3,
   "metadata": {},
   "outputs": [],
   "source": [
    "set1.add('fruits')"
   ]
  },
  {
   "cell_type": "code",
   "execution_count": 4,
   "metadata": {},
   "outputs": [
    {
     "name": "stdout",
     "output_type": "stream",
     "text": [
      "{3.14, 67, '1', '80.45', 'banana', 'fruits'}\n"
     ]
    }
   ],
   "source": [
    "print(set1)"
   ]
  },
  {
   "cell_type": "code",
   "execution_count": 5,
   "metadata": {},
   "outputs": [
    {
     "data": {
      "text/plain": [
       "3.14"
      ]
     },
     "execution_count": 5,
     "metadata": {},
     "output_type": "execute_result"
    }
   ],
   "source": [
    "set1.pop()"
   ]
  },
  {
   "cell_type": "code",
   "execution_count": 6,
   "metadata": {},
   "outputs": [
    {
     "name": "stdout",
     "output_type": "stream",
     "text": [
      "{67, '1', '80.45', 'banana', 'fruits'}\n"
     ]
    }
   ],
   "source": [
    "print(set1)"
   ]
  },
  {
   "cell_type": "code",
   "execution_count": 7,
   "metadata": {},
   "outputs": [],
   "source": [
    "set1.update({\"hello\",1234,'welcome'})"
   ]
  },
  {
   "cell_type": "code",
   "execution_count": 8,
   "metadata": {},
   "outputs": [
    {
     "name": "stdout",
     "output_type": "stream",
     "text": [
      "{67, '1', 'hello', '80.45', 'banana', 1234, 'welcome', 'fruits'}\n"
     ]
    }
   ],
   "source": [
    "print(set1)"
   ]
  },
  {
   "cell_type": "code",
   "execution_count": 11,
   "metadata": {},
   "outputs": [],
   "source": [
    "set1.remove('fruits') "
   ]
  },
  {
   "cell_type": "code",
   "execution_count": 12,
   "metadata": {},
   "outputs": [
    {
     "name": "stdout",
     "output_type": "stream",
     "text": [
      "{67, '1', 'hello', '80.45', 'banana', 1234, 'welcome'}\n"
     ]
    }
   ],
   "source": [
    "print(set1)"
   ]
  },
  {
   "cell_type": "code",
   "execution_count": 15,
   "metadata": {},
   "outputs": [
    {
     "name": "stdout",
     "output_type": "stream",
     "text": [
      "{'english', 'science', 19, 23, 'alphabets', 'maths', 46}\n"
     ]
    }
   ],
   "source": [
    "seta={\"alphabets\",\"english\",\"science\",\"maths\"}\n",
    "setb={19,23,46}\n",
    "setc=seta.union(setb)\n",
    "print(setc)"
   ]
  },
  {
   "cell_type": "code",
   "execution_count": 16,
   "metadata": {},
   "outputs": [
    {
     "name": "stdout",
     "output_type": "stream",
     "text": [
      "{19}\n"
     ]
    }
   ],
   "source": [
    "seta.update({19,\"maths\"})\n",
    "print(seta.intersection(setb))"
   ]
  },
  {
   "cell_type": "code",
   "execution_count": 17,
   "metadata": {},
   "outputs": [
    {
     "name": "stdout",
     "output_type": "stream",
     "text": [
      "{'english', 'science', 19, 'alphabets', 'maths'}\n"
     ]
    }
   ],
   "source": [
    "print(seta)"
   ]
  },
  {
   "cell_type": "code",
   "execution_count": 18,
   "metadata": {},
   "outputs": [
    {
     "name": "stdout",
     "output_type": "stream",
     "text": [
      "{19, 46, 23}\n"
     ]
    }
   ],
   "source": [
    "print(setb)"
   ]
  },
  {
   "cell_type": "code",
   "execution_count": 22,
   "metadata": {},
   "outputs": [
    {
     "name": "stdout",
     "output_type": "stream",
     "text": [
      "{'english', 'science', 19, 23, 46}\n",
      "{'english', 'science', 19, 'alphabets', 'maths'}\n"
     ]
    }
   ],
   "source": [
    "setb.update({\"english\",\"science\"})\n",
    "print(setb)\n",
    "print(seta)"
   ]
  },
  {
   "cell_type": "code",
   "execution_count": 33,
   "metadata": {},
   "outputs": [
    {
     "name": "stdout",
     "output_type": "stream",
     "text": [
      "{23, 'alphabets', 'maths'}\n",
      "{23, 'alphabets', 'maths'}\n"
     ]
    }
   ],
   "source": [
    "print(seta.symmetric_difference(setb))\n",
    "print(setb.symmetric_difference(seta))"
   ]
  },
  {
   "cell_type": "code",
   "execution_count": 25,
   "metadata": {},
   "outputs": [
    {
     "name": "stdout",
     "output_type": "stream",
     "text": [
      "None\n",
      "{'english', 'science', 19, 23}\n"
     ]
    }
   ],
   "source": [
    "print(setb.discard(46))\n",
    "print(setb)"
   ]
  },
  {
   "cell_type": "code",
   "execution_count": 30,
   "metadata": {},
   "outputs": [
    {
     "name": "stdout",
     "output_type": "stream",
     "text": [
      "set a values are {'english', 'science', 19, 'alphabets', 'maths'} set b values are {'english', 'science', 19, 23}\n"
     ]
    }
   ],
   "source": [
    "print(\"set a values are\",seta, \"set b values are\",setb)"
   ]
  },
  {
   "cell_type": "code",
   "execution_count": 32,
   "metadata": {},
   "outputs": [
    {
     "name": "stdout",
     "output_type": "stream",
     "text": [
      "{'alphabets', 'maths'}\n",
      "{23}\n"
     ]
    }
   ],
   "source": [
    "print(seta.difference(setb))\n",
    "print(setb.difference(seta))"
   ]
  },
  {
   "cell_type": "code",
   "execution_count": 41,
   "metadata": {},
   "outputs": [
    {
     "name": "stdout",
     "output_type": "stream",
     "text": [
      "{'english', 'science', 19, 'alphabets', 'maths'} {'english', 'science', 19}\n",
      "False\n",
      "True\n",
      "True\n"
     ]
    }
   ],
   "source": [
    "print(seta,setb)\n",
    "print(seta.isdisjoint(setb))\n",
    "setb.discard(23)\n",
    "print(setb.issubset(seta))\n",
    "print(seta.issuperset(setb))"
   ]
  },
  {
   "cell_type": "code",
   "execution_count": 56,
   "metadata": {},
   "outputs": [
    {
     "name": "stdout",
     "output_type": "stream",
     "text": [
      "{'hii', 'hey', 'hello'}\n",
      "{'hii', 'hey', 'hello'} {'english', 'science', 19}\n",
      "None\n",
      "set() {'english', 'science', 19}\n"
     ]
    }
   ],
   "source": [
    "seta.update({\"hey\",\"hello\",\"hii\"})\n",
    "print(seta)\n",
    "print(seta,setb)\n",
    "print(seta.intersection_update(setb))\n",
    "print(seta,setb)\n",
    "seta.difference_update(setb)"
   ]
  },
  {
   "cell_type": "code",
   "execution_count": 60,
   "metadata": {},
   "outputs": [
    {
     "name": "stdout",
     "output_type": "stream",
     "text": [
      "set() set()\n"
     ]
    }
   ],
   "source": [
    "seta.clear()\n",
    "setb.clear()\n",
    "print(seta,setb)"
   ]
  },
  {
   "cell_type": "code",
   "execution_count": 62,
   "metadata": {},
   "outputs": [
    {
     "name": "stdout",
     "output_type": "stream",
     "text": [
      "set()\n",
      "{1, 2, 3, 4, 5, 6, 7, 8, 9, 10}\n"
     ]
    }
   ],
   "source": [
    "seta={1,2,3,4,5}\n",
    "setb={1,2,3,4,5,6,7,8,9,10}\n",
    "seta.difference_update(setb)\n",
    "print(seta)\n",
    "print(setb)\n"
   ]
  },
  {
   "cell_type": "code",
   "execution_count": 81,
   "metadata": {},
   "outputs": [
    {
     "name": "stdout",
     "output_type": "stream",
     "text": [
      "hello world!!\n"
     ]
    },
    {
     "data": {
      "text/plain": [
       "False"
      ]
     },
     "execution_count": 81,
     "metadata": {},
     "output_type": "execute_result"
    }
   ],
   "source": [
    "stringa=\"HELLO WORLD!!\"\n",
    "print(stringa.casefold())\n",
    "stringa.isalnum()\n",
    "stringb=\"hello world 12345\"\n",
    "stringb.isalnum()"
   ]
  },
  {
   "cell_type": "code",
   "execution_count": 83,
   "metadata": {
    "scrolled": true
   },
   "outputs": [
    {
     "data": {
      "text/plain": [
       "True"
      ]
     },
     "execution_count": 83,
     "metadata": {},
     "output_type": "execute_result"
    }
   ],
   "source": [
    "stringb=\"helloworld12345\"\n",
    "stringb.isalnum()"
   ]
  },
  {
   "cell_type": "code",
   "execution_count": 90,
   "metadata": {},
   "outputs": [
    {
     "data": {
      "text/plain": [
       "-1"
      ]
     },
     "execution_count": 90,
     "metadata": {},
     "output_type": "execute_result"
    }
   ],
   "source": [
    "stringa.find(\"world\")"
   ]
  },
  {
   "cell_type": "code",
   "execution_count": 96,
   "metadata": {},
   "outputs": [
    {
     "name": "stdout",
     "output_type": "stream",
     "text": [
      "welcome to Grandiose Hotel, we are happy to see you Manisha\n"
     ]
    }
   ],
   "source": [
    "stringb=\"welcome to {}, we are happy to see you {}\" .format(\"Grandiose Hotel\",\"Manisha\")\n",
    "print(stringb)"
   ]
  },
  {
   "cell_type": "code",
   "execution_count": 100,
   "metadata": {},
   "outputs": [
    {
     "name": "stdout",
     "output_type": "stream",
     "text": [
      "Live and let live the nature     says\n"
     ]
    }
   ],
   "source": [
    "sta=\"    the nature    \"\n",
    "tar=sta.lstrip()\n",
    "\n",
    "print(\"Live and let live\", tar,\"says\")\n",
    "\n"
   ]
  },
  {
   "cell_type": "code",
   "execution_count": 107,
   "metadata": {},
   "outputs": [
    {
     "name": "stdout",
     "output_type": "stream",
     "text": [
      "['hello welcome', 'have a good day']\n"
     ]
    }
   ],
   "source": [
    "str1=\"hello welcome\\nhave a good day\"\n",
    "print(str1.splitlines())\n"
   ]
  },
  {
   "cell_type": "code",
   "execution_count": 112,
   "metadata": {},
   "outputs": [
    {
     "name": "stdout",
     "output_type": "stream",
     "text": [
      "False\n",
      "True\n"
     ]
    }
   ],
   "source": [
    "stra=\"welcome to the show\"\n",
    "print(stra.endswith(\"the\"))\n",
    "print(stra.startswith(\"welcome\"))"
   ]
  },
  {
   "cell_type": "code",
   "execution_count": 118,
   "metadata": {},
   "outputs": [
    {
     "name": "stdout",
     "output_type": "stream",
     "text": [
      "False\n",
      "False\n",
      "True\n",
      "wELCOME yOU aLL tO tHE #1 bEST rESORT\n"
     ]
    }
   ],
   "source": [
    "var1=\"welcome you all \\n to the #1 best resort \"\n",
    "print(var1.isprintable())\n",
    "print(var1.istitle())\n",
    "var2=\"Welcome You All To The #1 Best Resort\"\n",
    "print(var2.istitle())\n",
    "print(var2.swapcase())"
   ]
  },
  {
   "cell_type": "code",
   "execution_count": 138,
   "metadata": {},
   "outputs": [
    {
     "name": "stdout",
     "output_type": "stream",
     "text": [
      "dict_keys(['name', 'id', 'salary', 'designation'])\n",
      "dict_values(['hema', '12345', '99k', 'System Software Developer'])\n"
     ]
    }
   ],
   "source": [
    "info={\"name\":\"hema\",\"id\":\"12345\",\"salary\":\"99k\",\"designation\":\"System Software Developer\"}\n",
    "k=info.keys()\n",
    "print(k)\n",
    "m=info.values()\n",
    "print(m)"
   ]
  },
  {
   "cell_type": "code",
   "execution_count": 139,
   "metadata": {},
   "outputs": [
    {
     "name": "stdout",
     "output_type": "stream",
     "text": [
      "hema\n",
      "('designation', 'System Software Developer')\n"
     ]
    }
   ],
   "source": [
    "print(info.pop(\"name\"))\n",
    "print(info.popitem())"
   ]
  },
  {
   "cell_type": "code",
   "execution_count": 144,
   "metadata": {},
   "outputs": [
    {
     "name": "stdout",
     "output_type": "stream",
     "text": [
      "4\n"
     ]
    }
   ],
   "source": [
    "dica={\"OS\":\"android\",\"price\":\"50k\",\"performance\":\"high\",\"processor\":\"2.5GHZ\"}\n",
    "print(len(dica))"
   ]
  },
  {
   "cell_type": "code",
   "execution_count": 146,
   "metadata": {},
   "outputs": [
    {
     "name": "stdout",
     "output_type": "stream",
     "text": [
      "{'OS': 'android', 'price': '50k', 'performance': 'high', 'processor': '2.5GHZ', 'connectivity': 'high'}\n"
     ]
    }
   ],
   "source": [
    "dica[\"connectivity\"]=\"high\"\n",
    "print(dica)"
   ]
  },
  {
   "cell_type": "code",
   "execution_count": 148,
   "metadata": {},
   "outputs": [
    {
     "name": "stdout",
     "output_type": "stream",
     "text": [
      "{'OS': 'android', 'price': '50k', 'performance': 'high', 'processor': '2.5GHZ', 'connectivity': 'high'}\n"
     ]
    }
   ],
   "source": [
    "dicm=dict(dica)\n",
    "print(dicm)"
   ]
  },
  {
   "cell_type": "code",
   "execution_count": 149,
   "metadata": {},
   "outputs": [
    {
     "data": {
      "text/plain": [
       "'android'"
      ]
     },
     "execution_count": 149,
     "metadata": {},
     "output_type": "execute_result"
    }
   ],
   "source": [
    "dicm.get(\"OS\")"
   ]
  },
  {
   "cell_type": "code",
   "execution_count": 158,
   "metadata": {},
   "outputs": [
    {
     "name": "stdout",
     "output_type": "stream",
     "text": [
      "{'OS': 'android', 'price': '50k', 'performance': 'high', 'processor': '2.5GHZ', 'connectivity': 'high', 'Wireless charging': 'yes'}\n"
     ]
    }
   ],
   "source": [
    "dicm.update({\"Wireless charging\":\"yes\"})\n",
    "print(dicm)"
   ]
  },
  {
   "cell_type": "code",
   "execution_count": 162,
   "metadata": {},
   "outputs": [
    {
     "name": "stdout",
     "output_type": "stream",
     "text": [
      "{'OS': 'android', 'price': '50k', 'performance': 'high', 'processor': '2.5GHZ', 'connectivity': 'high', 'Wireless charging': 'yes', 'camera': '15MP'}\n",
      "15MP\n"
     ]
    }
   ],
   "source": [
    "dicm.setdefault(\"camera\",\"15MP\")\n",
    "print(dicm)\n",
    "print(dicm.get(\"camera\"))"
   ]
  },
  {
   "cell_type": "code",
   "execution_count": 163,
   "metadata": {},
   "outputs": [
    {
     "name": "stdout",
     "output_type": "stream",
     "text": [
      "{}\n"
     ]
    }
   ],
   "source": [
    "dicm.clear()\n",
    "print(dicm)"
   ]
  },
  {
   "cell_type": "code",
   "execution_count": null,
   "metadata": {},
   "outputs": [],
   "source": []
  }
 ],
 "metadata": {
  "kernelspec": {
   "display_name": "Python 3",
   "language": "python",
   "name": "python3"
  },
  "language_info": {
   "codemirror_mode": {
    "name": "ipython",
    "version": 3
   },
   "file_extension": ".py",
   "mimetype": "text/x-python",
   "name": "python",
   "nbconvert_exporter": "python",
   "pygments_lexer": "ipython3",
   "version": "3.7.6"
  }
 },
 "nbformat": 4,
 "nbformat_minor": 4
}
