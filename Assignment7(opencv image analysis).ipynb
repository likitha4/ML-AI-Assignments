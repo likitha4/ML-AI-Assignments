{
 "cells": [
  {
   "cell_type": "code",
   "execution_count": 1,
   "metadata": {},
   "outputs": [],
   "source": [
    "import cv2"
   ]
  },
  {
   "cell_type": "code",
   "execution_count": 2,
   "metadata": {},
   "outputs": [
    {
     "name": "stdout",
     "output_type": "stream",
     "text": [
      "Using matplotlib backend: Qt5Agg\n"
     ]
    }
   ],
   "source": [
    "%matplotlib auto"
   ]
  },
  {
   "cell_type": "code",
   "execution_count": 3,
   "metadata": {},
   "outputs": [
    {
     "name": "stdout",
     "output_type": "stream",
     "text": [
      "(842, 1180, 3)\n"
     ]
    }
   ],
   "source": [
    "img=cv2.imread(\"E:/imag1.jpg\")\n",
    "print(img.shape)"
   ]
  },
  {
   "cell_type": "code",
   "execution_count": 4,
   "metadata": {},
   "outputs": [],
   "source": [
    "cv2.imshow('Image',img) #display image\n"
   ]
  },
  {
   "cell_type": "code",
   "execution_count": 22,
   "metadata": {},
   "outputs": [],
   "source": [
    " gyimg=cv2.cvtColor(img,cv2.COLOR_BGR2GRAY) #color to gray \n",
    "cv2.imshow('Image',img)\n",
    "cv2.imshow('Gray Image',gyimg)"
   ]
  },
  {
   "cell_type": "code",
   "execution_count": 6,
   "metadata": {},
   "outputs": [
    {
     "data": {
      "text/plain": [
       "True"
      ]
     },
     "execution_count": 6,
     "metadata": {},
     "output_type": "execute_result"
    }
   ],
   "source": [
    "cv2.imwrite('E:/lionimage.png',img) #save image"
   ]
  },
  {
   "cell_type": "code",
   "execution_count": 6,
   "metadata": {},
   "outputs": [
    {
     "data": {
      "text/plain": [
       "numpy.ndarray"
      ]
     },
     "execution_count": 6,
     "metadata": {},
     "output_type": "execute_result"
    }
   ],
   "source": [
    "type(img)"
   ]
  },
  {
   "cell_type": "code",
   "execution_count": 7,
   "metadata": {},
   "outputs": [
    {
     "name": "stdout",
     "output_type": "stream",
     "text": [
      "(842, 1180)\n"
     ]
    }
   ],
   "source": [
    "print(img.shape[0:2]) #rows, columns(removing layers[rgb])"
   ]
  },
  {
   "cell_type": "code",
   "execution_count": 8,
   "metadata": {},
   "outputs": [],
   "source": [
    "length, breadth = img.shape[0:2]"
   ]
  },
  {
   "cell_type": "code",
   "execution_count": 9,
   "metadata": {},
   "outputs": [],
   "source": [
    " rotmatrix=cv2.getRotationMatrix2D((length/2,breadth/2),90,0.5) #rotating"
   ]
  },
  {
   "cell_type": "code",
   "execution_count": 10,
   "metadata": {},
   "outputs": [],
   "source": [
    "rotimg=cv2.warpAffine(img,rotmatrix,(length,breadth))"
   ]
  },
  {
   "cell_type": "code",
   "execution_count": 11,
   "metadata": {},
   "outputs": [],
   "source": [
    "cv2.imshow('Image',img) \n",
    "cv2.imshow('Rotated image',rotimg)"
   ]
  },
  {
   "cell_type": "code",
   "execution_count": 12,
   "metadata": {},
   "outputs": [],
   "source": [
    "ftrow = int(length*.25)\n",
    "ftcol = int(breadth*.25)\n",
    "ltrow = int(length*.75)\n",
    "ltcol = int(breadth*.85)\n"
   ]
  },
  {
   "cell_type": "code",
   "execution_count": 13,
   "metadata": {},
   "outputs": [],
   "source": [
    "cropimg=img[ftrow:ltrow,ftcol:ltcol] #cropping\n",
    "cv2.imshow('Original Image',img)\n",
    "cv2.imshow('Cropped Image',cropimg)"
   ]
  },
  {
   "cell_type": "code",
   "execution_count": 14,
   "metadata": {},
   "outputs": [],
   "source": [
    "reimg=cv2.resize(img,(750,500))#resizing\n",
    "cv2.imshow('Image',img)\n",
    "cv2.imshow('Resized Image',reimg)"
   ]
  },
  {
   "cell_type": "code",
   "execution_count": 15,
   "metadata": {},
   "outputs": [],
   "source": [
    "import numpy as np  #contrasting\n",
    "cimag=cv2.addWeighted(img,1.75,np.zeros(img.shape,img.dtype),0,0)\n",
    "cv2.imshow('Image',img)\n",
    "cv2.imshow('Contrast Image',cimag)"
   ]
  },
  {
   "cell_type": "code",
   "execution_count": 16,
   "metadata": {},
   "outputs": [],
   "source": [
    "bimg=cv2.GaussianBlur(img,(9,9),0)#blurring\n",
    "cv2.imshow('Image',img)\n",
    "cv2.imshow('Blurred image',bimg)"
   ]
  },
  {
   "cell_type": "code",
   "execution_count": 17,
   "metadata": {},
   "outputs": [],
   "source": [
    "edgeimg=cv2.Canny(img,150,250) #finding edges in the image\n",
    "cv2.imshow('Edge Image',edgeimg)"
   ]
  },
  {
   "cell_type": "code",
   "execution_count": 18,
   "metadata": {},
   "outputs": [],
   "source": [
    "deimg=cv2.fastNlMeansDenoisingColored(img,None,20,10,9,25) #denoised-removing nose from the image\n",
    "cv2.imshow('Denoised Image',deimg)"
   ]
  },
  {
   "cell_type": "code",
   "execution_count": 19,
   "metadata": {},
   "outputs": [],
   "source": [
    "himg=cv2.cvtColor(img,cv2.COLOR_BGR2HSV) #color detection\n",
    "cv2.imshow('Image',himg)\n",
    "lred=np.array([0,50,50])\n",
    "ured=np.array([10,255,255])\n",
    "m=cv2.inRange(himg,lred,ured)\n",
    "cv2.imshow('Detected Red color',m)"
   ]
  },
  {
   "cell_type": "code",
   "execution_count": 20,
   "metadata": {},
   "outputs": [],
   "source": [
    "import matplotlib.pyplot as plt"
   ]
  },
  {
   "cell_type": "code",
   "execution_count": 23,
   "metadata": {},
   "outputs": [],
   "source": [
    "re,tsh1=cv2.threshold(gyimg,127,255,cv2.THRESH_BINARY)  #thresholding \n",
    "re,tsh2=cv2.threshold(gyimg,127,255,cv2.THRESH_BINARY_INV)\n",
    "re,tsh3=cv2.threshold(gyimg,127,255,cv2.THRESH_TRUNC)\n",
    "re,tsh4=cv2.threshold(gyimg,127,255,cv2.THRESH_TOZERO)\n",
    "re,tsh5=cv2.threshold(gyimg,127,255,cv2.THRESH_TOZERO_INV)\n",
    "titles=['Original Img','Binary','Binary Inv','Trunc','ToZero','ToZero Inv']\n",
    "images=[img,tsh1,tsh2,tsh3,tsh4,tsh5]\n",
    "for i in range(6):\n",
    "    plt.subplot(3,3,i+1),plt.imshow(images[i])\n",
    "    plt.title(titles[i])\n",
    "    plt.xticks([]),plt.yticks([])\n",
    "                \n",
    "                "
   ]
  },
  {
   "cell_type": "code",
   "execution_count": null,
   "metadata": {},
   "outputs": [],
   "source": []
  }
 ],
 "metadata": {
  "kernelspec": {
   "display_name": "Python 3",
   "language": "python",
   "name": "python3"
  },
  "language_info": {
   "codemirror_mode": {
    "name": "ipython",
    "version": 3
   },
   "file_extension": ".py",
   "mimetype": "text/x-python",
   "name": "python",
   "nbconvert_exporter": "python",
   "pygments_lexer": "ipython3",
   "version": "3.7.6"
  }
 },
 "nbformat": 4,
 "nbformat_minor": 4
}
